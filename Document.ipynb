{
 "cells": [
  {
   "cell_type": "markdown",
   "id": "7880ff7c",
   "metadata": {},
   "source": [
    "# **Minekaa RL Parkour**"
   ]
  },
  {
   "cell_type": "markdown",
   "id": "1c2fca9c",
   "metadata": {},
   "source": [
    "Goal : Train RL agent to play a Minekaa parkour map."
   ]
  },
  {
   "cell_type": "markdown",
   "id": "0b89779e",
   "metadata": {},
   "source": [
    "## What is Minekaa"
   ]
  },
  {
   "cell_type": "markdown",
   "id": "05ab6548",
   "metadata": {},
   "source": [
    "Minekaa is a 3D Python game that replicates Minecraft, but simplified to include only the important character actions used for parkour gameplay. These include movement (forward, backward, left, right, jump) and camera control (look up, look down, rotate left, rotate right)."
   ]
  },
  {
   "cell_type": "markdown",
   "id": "7df73c56",
   "metadata": {},
   "source": [
    "<p align = \"center\">\n",
    "    <img src=\"asset/minekaa.png\" alt=\"Alt text\" width=\"800\"/>\n",
    "</p>"
   ]
  },
  {
   "cell_type": "markdown",
   "id": "b61e14c1",
   "metadata": {},
   "source": [
    "## Component"
   ]
  },
  {
   "cell_type": "markdown",
   "id": "f7451898",
   "metadata": {},
   "source": [
    "<p align = \"center\">\n",
    "    <img src=\"asset/Axis.png\" alt=\"Alt text\" width=\"400\"/>\n",
    "</p>"
   ]
  },
  {
   "cell_type": "markdown",
   "id": "8638c486",
   "metadata": {},
   "source": [
    "**Action** (10 actions): \n",
    "- Forward (1)\n",
    "- Backward (1)\n",
    "- Slide Left/Right (2)\n",
    "- Rotate(Roll) 0/45/90 degree (3)\n",
    "- Rotate(Pitch) Left/Right (2)\n",
    "- Jump (1)"
   ]
  },
  {
   "cell_type": "markdown",
   "id": "4983225d",
   "metadata": {},
   "source": [
    "**Reward:**\n",
    "- +100: when agent reach goal\n",
    "- -50: hit lava \n",
    "- Mini reward: agent closer to goal (Euclidian)\n",
    "- Penalty: increase based on how long it takes step"
   ]
  },
  {
   "cell_type": "markdown",
   "id": "d40fc5be",
   "metadata": {},
   "source": [
    "### **Parkour map**"
   ]
  },
  {
   "cell_type": "markdown",
   "id": "c155fc88",
   "metadata": {},
   "source": [
    "**Level 1:** Straight Forward map  \n",
    "For test the setup of code"
   ]
  },
  {
   "cell_type": "markdown",
   "id": "02de106e",
   "metadata": {},
   "source": [
    "<p align = \"center\">\n",
    "    <img src=\"asset/straightmap.png\" alt=\"Alt text\" width=\"200\"/>\n",
    "</p>"
   ]
  },
  {
   "cell_type": "markdown",
   "id": "4ea6110d",
   "metadata": {},
   "source": [
    "**Level 2:** Zigzag path"
   ]
  },
  {
   "cell_type": "markdown",
   "id": "92ff5338",
   "metadata": {},
   "source": [
    "<p align = \"center\">\n",
    "    <img src=\"asset/zigzagmap.png\" alt=\"Alt text\" width=\"200\"/>\n",
    "</p>"
   ]
  },
  {
   "cell_type": "markdown",
   "id": "ecd53a15",
   "metadata": {},
   "source": [
    "### **Algorithm**"
   ]
  },
  {
   "cell_type": "markdown",
   "id": "1d2aafe2",
   "metadata": {},
   "source": [
    "#### DQN (Deep Q-Learning)"
   ]
  },
  {
   "cell_type": "markdown",
   "id": "e42f340a",
   "metadata": {},
   "source": [
    "#### SAC (Soft Actor critic-Discrete)"
   ]
  },
  {
   "cell_type": "markdown",
   "id": "2126de5d",
   "metadata": {},
   "source": [
    "We use modified SAC that work with discrete action. Refference https://github.com/toshikwa/sac-discrete.pytorch"
   ]
  },
  {
   "cell_type": "markdown",
   "id": "5bbce972",
   "metadata": {},
   "source": [
    "### **Reinforcement learning component**"
   ]
  },
  {
   "cell_type": "markdown",
   "id": "23662954",
   "metadata": {},
   "source": [
    "#### Environment"
   ]
  },
  {
   "cell_type": "markdown",
   "id": "11526fb3",
   "metadata": {},
   "source": [
    "Custom map env made from ursina + stable_baseline 3 for algorithm"
   ]
  },
  {
   "cell_type": "markdown",
   "id": "7645e5d5",
   "metadata": {},
   "source": [
    "#### State "
   ]
  },
  {
   "cell_type": "markdown",
   "id": "cb467f87",
   "metadata": {},
   "source": [
    "Observation is pixel-image from agent FPV (first person view) and agent position (use to compute reward)."
   ]
  },
  {
   "cell_type": "markdown",
   "id": "c7ac7f93",
   "metadata": {},
   "source": [
    "#### Actions"
   ]
  },
  {
   "cell_type": "markdown",
   "id": "22ef18d0",
   "metadata": {},
   "source": [
    "```py\n",
    "# 0 move forward\n",
    "self.player.position += forward * speed\n",
    "# 1 move backward\n",
    "self.player.position -= forward * speed\n",
    "# 2 left\n",
    "self.player.position -= right * speed\n",
    "# 3 right\n",
    "self.player.position += right * speed\n",
    "# 4 look down 45 degrees\n",
    "self.player.rotation_x = 45\n",
    "# 5 look down 90 degrees\n",
    "self.player.rotation_x = 90\n",
    "# 6 look forward (reset pitch)\n",
    "self.player.rotation_x = 0\n",
    "# 7 rotate left\n",
    "self.current_angle_index = (self.current_angle_index - 1) % 4\n",
    "self.player.rotation_y = self.rotation_angles[self.current_angle_index]\n",
    "# 8 rotate right\n",
    "self.current_angle_index = (self.current_angle_index + 1) % 4\n",
    "elf.player.rotation_y = self.rotation_angles[self.current_angle_index]\n",
    "# 9 jump forward\n",
    "self.player.velocity.y = self.jump_force\n",
    "self.player.position += forward * 0.2\n",
    "self.on_ground = False\n",
    "```"
   ]
  },
  {
   "cell_type": "markdown",
   "id": "cb8716b9",
   "metadata": {},
   "source": [
    "### **Result**"
   ]
  },
  {
   "cell_type": "markdown",
   "id": "d91e2f39",
   "metadata": {},
   "source": [
    "#### **First map (straight)**"
   ]
  },
  {
   "cell_type": "markdown",
   "id": "8a7ede40",
   "metadata": {},
   "source": [
    "**DQN**"
   ]
  },
  {
   "cell_type": "markdown",
   "id": "a41d2be7",
   "metadata": {},
   "source": [
    "<div style=\"display: flex; justify-content: center; align-items: center; gap: 20px;\">\n",
    "    <img src=\"asset/DQNstvis.png\" alt=\"Zigzag Map\" width=\"200\" />\n",
    "    <video width=\"500\" controls>\n",
    "        <source src=\"asset/DQN_straight.mp4\" type=\"video/mp4\">\n",
    "    </video>\n",
    "</div>"
   ]
  },
  {
   "cell_type": "markdown",
   "id": "90582967",
   "metadata": {},
   "source": [
    "**SAC**"
   ]
  },
  {
   "cell_type": "markdown",
   "id": "4e5ca783",
   "metadata": {},
   "source": [
    "<div style=\"display: flex; justify-content: center; align-items: center; gap: 20px;\">\n",
    "    <img src=\"asset/SACstvis.png\" alt=\"Zigzag Map\" width=\"200\" />\n",
    "    <video width=\"500\" controls>\n",
    "        <source src=\"asset/sac_evalst.mp4\" type=\"video/mp4\">\n",
    "    </video>\n",
    "</div>"
   ]
  },
  {
   "cell_type": "markdown",
   "id": "30f6833d",
   "metadata": {},
   "source": [
    "#### **Second map (zigzag)**"
   ]
  },
  {
   "cell_type": "markdown",
   "id": "f0a676e2",
   "metadata": {},
   "source": [
    "**DQN**"
   ]
  },
  {
   "cell_type": "markdown",
   "id": "1cfe7a75",
   "metadata": {},
   "source": [
    "<div style=\"display: flex; justify-content: center; align-items: center; gap: 20px;\">\n",
    "    <img src=\"asset/DQNzigvis.png\" alt=\"Zigzag Map\" width=\"200\" />\n",
    "    <video width=\"500\" controls>\n",
    "        <source src=\"asset/DQN_zigzag.mp4\" type=\"video/mp4\">\n",
    "    </video>\n",
    "</div>"
   ]
  },
  {
   "cell_type": "markdown",
   "id": "5e974dce",
   "metadata": {},
   "source": [
    "**SAC**"
   ]
  },
  {
   "cell_type": "markdown",
   "id": "ec4f2647",
   "metadata": {},
   "source": [
    "<div style=\"display: flex; justify-content: center; align-items: center; gap: 20px;\">\n",
    "    <img src=\"asset/SACzigvis.png\" alt=\"Zigzag Map\" width=\"200\" />\n",
    "    <video width=\"500\" controls>\n",
    "        <source src=\"asset/sac_evalzig.mp4\" type=\"video/mp4\">\n",
    "    </video>\n",
    "</div>"
   ]
  },
  {
   "cell_type": "markdown",
   "id": "3196bd88",
   "metadata": {},
   "source": [
    "### Graph\n"
   ]
  },
  {
   "cell_type": "markdown",
   "id": "91098855",
   "metadata": {},
   "source": [
    "<p align = \"center\">\n",
    "    <img src=\"asset/compare_penalty.png\" alt=\"Alt text\" width=\"600\"/>\n",
    "</p>"
   ]
  },
  {
   "cell_type": "markdown",
   "id": "7d939e2e",
   "metadata": {},
   "source": [
    "**Reference**  \n",
    "[1] https://doi.org/10.48550/arXiv.1910.07207  \n",
    "[2] https://github.com/LouisCaubet/RLMinecraftParkour  \n",
    "[3] https://github.com/seantey/minerl_parkour"
   ]
  }
 ],
 "metadata": {
  "language_info": {
   "name": "python"
  }
 },
 "nbformat": 4,
 "nbformat_minor": 5
}
