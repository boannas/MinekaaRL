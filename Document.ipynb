{
 "cells": [
  {
   "cell_type": "markdown",
   "id": "7880ff7c",
   "metadata": {},
   "source": [
    "# Minekaa RL Parkour"
   ]
  },
  {
   "cell_type": "markdown",
   "id": "1c2fca9c",
   "metadata": {},
   "source": [
    "Goal : Train RL agent to play a Minekaa parkour map."
   ]
  },
  {
   "cell_type": "markdown",
   "id": "0b89779e",
   "metadata": {},
   "source": [
    "## What is Minekaa"
   ]
  },
  {
   "cell_type": "markdown",
   "id": "05ab6548",
   "metadata": {},
   "source": [
    "Minekaa is a 3D Python game that replicates Minecraft, but simplified to include only the important character actions used for parkour gameplay. These include movement (forward, backward, left, right, jump) and camera control (look up, look down, rotate left, rotate right)."
   ]
  },
  {
   "cell_type": "markdown",
   "id": "b61e14c1",
   "metadata": {},
   "source": [
    "## Component"
   ]
  },
  {
   "cell_type": "markdown",
   "id": "d40fc5be",
   "metadata": {},
   "source": [
    "### Parkour map"
   ]
  },
  {
   "cell_type": "markdown",
   "id": "7cdfff53",
   "metadata": {},
   "source": [
    "**First map**"
   ]
  },
  {
   "cell_type": "markdown",
   "id": "c155fc88",
   "metadata": {},
   "source": [
    "Straight map"
   ]
  },
  {
   "cell_type": "markdown",
   "id": "0dc5e6dc",
   "metadata": {},
   "source": [
    "**Second map**"
   ]
  },
  {
   "cell_type": "markdown",
   "id": "4ea6110d",
   "metadata": {},
   "source": [
    "zigzag map"
   ]
  },
  {
   "cell_type": "markdown",
   "id": "ecd53a15",
   "metadata": {},
   "source": [
    "### Algorithm"
   ]
  },
  {
   "cell_type": "markdown",
   "id": "1d2aafe2",
   "metadata": {},
   "source": [
    "#### DQN (Deep Q-Learning)"
   ]
  },
  {
   "cell_type": "markdown",
   "id": "e42f340a",
   "metadata": {},
   "source": [
    "#### SAC (Soft Actor critic)"
   ]
  },
  {
   "cell_type": "markdown",
   "id": "2126de5d",
   "metadata": {},
   "source": [
    "We use modified SAC that work with discrete action. Refference https://github.com/toshikwa/sac-discrete.pytorch"
   ]
  },
  {
   "cell_type": "markdown",
   "id": "5bbce972",
   "metadata": {},
   "source": [
    "### Reinforcement learning component"
   ]
  },
  {
   "cell_type": "markdown",
   "id": "23662954",
   "metadata": {},
   "source": [
    "#### Environment"
   ]
  },
  {
   "cell_type": "markdown",
   "id": "11526fb3",
   "metadata": {},
   "source": [
    "Custom map env made from ursina + stable_baseline 3 for algorithm"
   ]
  },
  {
   "cell_type": "markdown",
   "id": "7645e5d5",
   "metadata": {},
   "source": [
    "#### State "
   ]
  },
  {
   "cell_type": "markdown",
   "id": "cb467f87",
   "metadata": {},
   "source": [
    "Observation is image from agent FPV(first person view) and agent position (use to compute reward)."
   ]
  },
  {
   "cell_type": "markdown",
   "id": "c7ac7f93",
   "metadata": {},
   "source": [
    "#### Actions"
   ]
  },
  {
   "cell_type": "markdown",
   "id": "22ef18d0",
   "metadata": {},
   "source": [
    "```py\n",
    "# move forward\n",
    "self.player.position += forward * speed\n",
    "# back\n",
    "self.player.position -= forward * speed\n",
    "# left\n",
    "self.player.position -= right * speed\n",
    "# right\n",
    "self.player.position += right * speed\n",
    "# look down 45 degrees\n",
    "self.player.rotation_x = 45\n",
    "# look down 45 degrees\n",
    "self.player.rotation_x = 90\n",
    "# look forward (reset pitch)\n",
    "self.player.rotation_x = 0\n",
    "# rotate left\n",
    "self.current_angle_index = (self.current_angle_index - 1) % 4\n",
    "self.player.rotation_y = self.rotation_angles[self.current_angle_index]\n",
    "# rotate right\n",
    "self.current_angle_index = (self.current_angle_index + 1) % 4\n",
    "elf.player.rotation_y = self.rotation_angles[self.current_angle_index]\n",
    "# jump forward\n",
    "self.player.velocity.y = self.jump_force\n",
    "self.player.position += forward * 0.2\n",
    "self.on_ground = False\n",
    "```"
   ]
  },
  {
   "cell_type": "markdown",
   "id": "640005a7",
   "metadata": {},
   "source": [
    "Reward"
   ]
  },
  {
   "cell_type": "markdown",
   "id": "5ddf1299",
   "metadata": {},
   "source": []
  }
 ],
 "metadata": {
  "language_info": {
   "name": "python"
  }
 },
 "nbformat": 4,
 "nbformat_minor": 5
}
